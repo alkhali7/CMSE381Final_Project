{
 "cells": [
  {
   "cell_type": "markdown",
   "id": "ba4720e0-e566-4f3e-90c2-8a58c47c8b7b",
   "metadata": {},
   "source": [
    "# PCA Regression\n",
    "\n",
    "The goal for this notebook is to give you three baseline models "
   ]
  },
  {
   "cell_type": "code",
   "execution_count": 133,
   "id": "06df5455",
   "metadata": {},
   "outputs": [],
   "source": [
    "import numpy as np\n",
    "import pandas as pd\n",
    "import logging\n",
    "import anndata as ad\n",
    "\n",
    "\n",
    "logging.basicConfig(level=logging.INFO)"
   ]
  },
  {
   "cell_type": "code",
   "execution_count": 134,
   "id": "6b29fa9d-6d16-49c7-8b2d-9b17b3698c20",
   "metadata": {
    "execution": {
     "iopub.execute_input": "2021-09-10T16:46:14.261826Z",
     "iopub.status.busy": "2021-09-10T16:46:14.261224Z",
     "iopub.status.idle": "2021-09-10T16:46:16.426710Z",
     "shell.execute_reply": "2021-09-10T16:46:16.425753Z",
     "shell.execute_reply.started": "2021-09-10T16:46:14.261744Z"
    }
   },
   "outputs": [],
   "source": [
    "from sklearn.decomposition import TruncatedSVD\n",
    "from sklearn.linear_model import LinearRegression\n",
    "from sklearn.metrics import mean_squared_error\n",
    "\n",
    "import scanpy as sc\n",
    "import anndata as ad\n",
    "import matplotlib.pyplot as plt"
   ]
  },
  {
   "cell_type": "code",
   "execution_count": 5,
   "id": "b4146982",
   "metadata": {},
   "outputs": [],
   "source": [
    "import logging\n",
    "import anndata as ad\n",
    "\n",
    "from scipy.sparse import csc_matrix\n",
    "\n",
    "from sklearn.decomposition import TruncatedSVD\n",
    "from sklearn.linear_model import LinearRegression\n",
    "\n",
    "logging.basicConfig(level=logging.INFO)"
   ]
  },
  {
   "cell_type": "code",
   "execution_count": 12,
   "id": "9c507936-681e-465e-bf5a-d7c33434eeb3",
   "metadata": {
    "execution": {
     "iopub.execute_input": "2021-09-10T16:46:16.433880Z",
     "iopub.status.busy": "2021-09-10T16:46:16.432023Z",
     "iopub.status.idle": "2021-09-10T16:46:20.502229Z",
     "shell.execute_reply": "2021-09-10T16:46:20.501552Z",
     "shell.execute_reply.started": "2021-09-10T16:46:16.433834Z"
    },
    "tags": []
   },
   "outputs": [],
   "source": [
    "Y_train = ad.read_h5ad(\"Adt_processed_training.h5ad\") #gex is gene expression which are RNA\n",
    "Y_test = ad.read_h5ad(\"Adt_processed_testing.h5ad\") #gex is gene expression which are RNA\n",
    "X_train = ad.read_h5ad(\"Gex_processed_training.h5ad\") # adt is protein\n",
    "X_test = ad.read_h5ad(\"Gex_processed_testing.h5ad\") # adt is protein\n"
   ]
  },
  {
   "cell_type": "markdown",
   "id": "1a4e467d-dc3b-4dac-ab91-4eacf7eab54e",
   "metadata": {},
   "source": [
    "### RMSE Metric\n",
    "\n",
    "The metric for task 1 is RMSE on the `adata.X` data."
   ]
  },
  {
   "cell_type": "code",
   "execution_count": 32,
   "id": "e75b15a2-1280-4b30-ae5d-8fb51a3cbebb",
   "metadata": {
    "execution": {
     "iopub.execute_input": "2021-09-10T16:46:24.826510Z",
     "iopub.status.busy": "2021-09-10T16:46:24.824552Z",
     "iopub.status.idle": "2021-09-10T16:46:24.831921Z",
     "shell.execute_reply": "2021-09-10T16:46:24.831291Z",
     "shell.execute_reply.started": "2021-09-10T16:46:24.826476Z"
    },
    "tags": []
   },
   "outputs": [],
   "source": [
    "def calculate_rmse(true_test_mod2, pred_test_mod2):\n",
    "    return  mean_squared_error(true_test_mod2.X.toarray(), pred_test_mod2.X, squared=False) # .toarray will turn it to numpy array\n"
   ]
  },
  {
   "cell_type": "markdown",
   "id": "c75d8ce0-b470-4ee3-9972-cfcd804e0f30",
   "metadata": {
    "execution": {
     "iopub.execute_input": "2021-09-08T01:31:42.781205Z",
     "iopub.status.busy": "2021-09-08T01:31:42.780908Z",
     "iopub.status.idle": "2021-09-08T01:31:42.784338Z",
     "shell.execute_reply": "2021-09-08T01:31:42.783640Z",
     "shell.execute_reply.started": "2021-09-08T01:31:42.781180Z"
    }
   },
   "source": [
    "### Method\n",
    "\n",
    "Let's try a method that runs linear regression on PCA transformed data before projecting the data back to the feature space."
   ]
  },
  {
   "cell_type": "code",
   "execution_count": 132,
   "id": "c86bceb5",
   "metadata": {},
   "outputs": [],
   "source": [
    "def baseline_PC_regression(X_train, Y_train, X_test):\n",
    "    '''Baseline method training a linear regressor on the input data'''\n",
    "    X_joint = ad.concat(\n",
    "        {\"train\": X_train, \"test\": X_test},\n",
    "        axis = 0,\n",
    "        join = \"outer\",\n",
    "        label = \"group\",\n",
    "        fill_value = 0,\n",
    "        index_unique = \"-\", \n",
    "    )\n",
    "    \n",
    "    # Do PCA on the input data\n",
    "    logging.info('Performing dimensionality reduction on RNA values...')\n",
    "    embedder_RNA = TruncatedSVD(n_components = 50)\n",
    "    X_pca = embedder_RNA.fit_transform(X_joint.X)\n",
    "    \n",
    "\n",
    "    \n",
    "    # split dimred mod 1 back up for training\n",
    "    PC_train = X_pca[X_joint.obs['group'] == 'train']\n",
    "    PC_test = X_pca[X_joint.obs['group'] == 'test']\n",
    "    y_train = Y_train.X.toarray()\n",
    "    \n",
    "    assert len(PC_train) + len(PC_test) == len(X_pca)\n",
    "    \n",
    "    logging.info('Running Linear regression...')\n",
    "    \n",
    "    reg = LinearRegression()\n",
    "    \n",
    "    # Train the model on the PCA reduced modality 1 and 2 data\n",
    "    reg.fit(PC_train, y_train)\n",
    "    y_pred = reg.predict(PC_test)\n",
    "    \n",
    "    # Project the predictions back to the modality 2 feature space\n",
    "    \n",
    "    pred_test_mod2 = ad.AnnData(\n",
    "        X = y_pred,\n",
    "        obs = X_test.obs,\n",
    "        var = Y_train.var\n",
    "    )\n",
    "    \n",
    "    # Add the name of the method to the result\n",
    "    pred_test_mod2.uns[\"method\"] = \"linear\"\n",
    "    \n",
    "    return pred_test_mod2"
   ]
  },
  {
   "cell_type": "code",
   "execution_count": 131,
   "id": "12247d29",
   "metadata": {},
   "outputs": [],
   "source": [
    "def baseline_PC_regression2(X_train, Y_train, X_test):\n",
    "    '''Baseline method training a linear regressor on the input data'''\n",
    "    X_tr = X_train.X.toarray()\n",
    "    X_bar = np.mean(X_tr, axis = 0)\n",
    "    X_sd = np.std(X_tr, axis=0)\n",
    "    X_te = X_test.X.toarray()\n",
    "    X_tr1 = (X_tr - X_bar) / X_sd # center and normalized to have variance 1\n",
    "    X_te1 = (X_te - X_bar) / X_sd # Normalized testing data\n",
    "    \n",
    "    \n",
    "    # Do PCA on the X_train data\n",
    "    logging.info('Performing dimensionality reduction on X_train RNA values...')\n",
    "    svd = TruncatedSVD(n_components = 50)\n",
    "    svd.fit(X_tr1)\n",
    "    singular_vectors = svd.components_\n",
    "    PC_train = np.dot(X_tr1, singular_vectors.T)\n",
    "    PC_test = np.dot(X_te1, singular_vectors.T)\n",
    "        \n",
    "    y_train = Y_train.X.toarray()\n",
    "    \n",
    "    \n",
    "    logging.info('Running Linear regression...')\n",
    "    \n",
    "    reg = LinearRegression()\n",
    "    \n",
    "    # Train the model on the PCA reduced modality 1 and 2 data\n",
    "    reg.fit(PC_train, y_train)\n",
    "    y_pred = reg.predict(PC_test)\n",
    "    \n",
    "    # Project the predictions back to the modality 2 feature space\n",
    "    \n",
    "    pred_Y = ad.AnnData(\n",
    "        X = y_pred,\n",
    "        obs = X_test.obs,\n",
    "        var = Y_train.var\n",
    "    )\n",
    "    \n",
    "    # Add the name of the method to the result\n",
    "    pred_Y.uns[\"method\"] = \"linear\"\n",
    "    \n",
    "    return pred_Y"
   ]
  },
  {
   "cell_type": "markdown",
   "id": "dfda838d-bdec-42e0-a30f-164394fdd4b7",
   "metadata": {},
   "source": [
    "Now, for comparison, let's create a simple dummy method that simply returns the mean for the input modality 2 data. This method returns an identical prediction for all cells and ignores the modality 1 information altogether."
   ]
  },
  {
   "cell_type": "code",
   "execution_count": 62,
   "id": "3985b862-7b50-4aea-9212-7556b2c4b2f4",
   "metadata": {
    "execution": {
     "iopub.execute_input": "2021-09-10T16:46:24.856460Z",
     "iopub.status.busy": "2021-09-10T16:46:24.854285Z",
     "iopub.status.idle": "2021-09-10T16:46:24.863959Z",
     "shell.execute_reply": "2021-09-10T16:46:24.863272Z",
     "shell.execute_reply.started": "2021-09-10T16:46:24.856427Z"
    },
    "tags": []
   },
   "outputs": [],
   "source": [
    "def baseline_mean(input_train_mod1, input_train_mod2, input_test_mod1):\n",
    "    '''Dummy method that predicts mean(input_train_mod2) for all cells'''\n",
    "    logging.info('Calculate mean of the training data modality 2...')\n",
    "    y_pred = np.repeat(input_train_mod2.X.mean(axis=0).reshape(-1,1).T, input_test_mod1.shape[0], axis=0)\n",
    "    y_pred = np.array(y_pred)\n",
    "    # Prepare the ouput data object\n",
    "    pred_test_mod2 = ad.AnnData(\n",
    "        X = y_pred,\n",
    "        obs=input_test_mod1.obs,\n",
    "        var=input_train_mod2.var,\n",
    "    )\n",
    "    \n",
    "    pred_test_mod2.uns[\"method\"] = \"mean\"\n",
    "\n",
    "    return pred_test_mod2"
   ]
  },
  {
   "cell_type": "markdown",
   "id": "20fd344d-8a15-485c-8857-f31e392385d8",
   "metadata": {},
   "source": [
    "#### Run comparison\n",
    "\n",
    "Let's run the simple and dummy method side-by-side and compare performance."
   ]
  },
  {
   "cell_type": "code",
   "execution_count": 66,
   "id": "d8d64874-0739-4984-a66d-98c07d58d079",
   "metadata": {
    "execution": {
     "iopub.execute_input": "2021-09-10T16:46:24.870570Z",
     "iopub.status.busy": "2021-09-10T16:46:24.868188Z",
     "iopub.status.idle": "2021-09-10T16:46:43.305351Z",
     "shell.execute_reply": "2021-09-10T16:46:43.302792Z",
     "shell.execute_reply.started": "2021-09-10T16:46:24.870536Z"
    },
    "tags": []
   },
   "outputs": [
    {
     "name": "stderr",
     "output_type": "stream",
     "text": [
      "INFO:root:Performing dimensionality reduction on RNA values...\n",
      "INFO:root:Running Linear regression...\n",
      "INFO:root:Calculate mean of the training data modality 2...\n"
     ]
    },
    {
     "name": "stdout",
     "output_type": "stream",
     "text": [
      "linear had a RMSE of 0.3821\n",
      "mean had a RMSE of 0.5487\n"
     ]
    }
   ],
   "source": [
    "for method in [baseline_PC_regression, baseline_mean]:\n",
    "    # Run prediction\n",
    "    pred_Y = method(X_train, Y_train, X_test)\n",
    "    # Calculate RMSE\n",
    "    rmse = calculate_rmse(Y_test, pred_Y)\n",
    "    # Print results\n",
    "    print(f'{pred_Y.uns[\"method\"]} had a RMSE of {rmse:.4f}')"
   ]
  },
  {
   "cell_type": "code",
   "execution_count": 130,
   "id": "e4599eaa",
   "metadata": {},
   "outputs": [
    {
     "name": "stderr",
     "output_type": "stream",
     "text": [
      "INFO:root:Performing dimensionality reduction on X_train RNA values...\n",
      "INFO:root:Running Linear regression...\n",
      "INFO:root:Calculate mean of the training data modality 2...\n"
     ]
    },
    {
     "name": "stdout",
     "output_type": "stream",
     "text": [
      "linear had a RMSE of 0.3711\n",
      "mean had a RMSE of 0.5487\n"
     ]
    }
   ],
   "source": [
    "for method in [baseline_PC_regression2, baseline_mean]:\n",
    "    # Run prediction\n",
    "    pred_Y = method(X_train, Y_train, X_test)\n",
    "    # Calculate RMSE\n",
    "    rmse = calculate_rmse(Y_test, pred_Y)\n",
    "    # Print results\n",
    "    print(f'{pred_Y.uns[\"method\"]} had a RMSE of {rmse:.4f}')"
   ]
  },
  {
   "cell_type": "markdown",
   "id": "694dd207-eb54-423d-a334-2e16c3b1901d",
   "metadata": {},
   "source": [
    "As expected, the linear model does better than the dummy method. Now the challenge is up to you! Can you do better than this baseline?"
   ]
  }
 ],
 "metadata": {
  "kernelspec": {
   "display_name": "Python 3 (ipykernel)",
   "language": "python",
   "name": "python3"
  },
  "language_info": {
   "codemirror_mode": {
    "name": "ipython",
    "version": 3
   },
   "file_extension": ".py",
   "mimetype": "text/x-python",
   "name": "python",
   "nbconvert_exporter": "python",
   "pygments_lexer": "ipython3",
   "version": "3.8.16"
  }
 },
 "nbformat": 4,
 "nbformat_minor": 5
}
